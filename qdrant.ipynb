{
 "cells": [
  {
   "cell_type": "markdown",
   "metadata": {},
   "source": [
    "A playaround to test out the persistent vectorstore functionality of Qdrant before the further development of RAG based tool  "
   ]
  },
  {
   "cell_type": "code",
   "execution_count": 4,
   "metadata": {},
   "outputs": [
    {
     "name": "stdout",
     "output_type": "stream",
     "text": [
      "Collecting qdrant-client[fastembed]\n",
      "  Downloading qdrant_client-1.10.0-py3-none-any.whl (254 kB)\n",
      "     ---------------------------------------- 0.0/254.1 kB ? eta -:--:--\n",
      "     -------------------------------------- 254.1/254.1 kB 5.2 MB/s eta 0:00:00\n",
      "Requirement already satisfied: portalocker<3.0.0,>=2.7.0 in c:\\users\\wongd7\\documents\\python\\llm_experiments\\venv\\lib\\site-packages (from qdrant-client[fastembed]) (2.10.0)\n",
      "Requirement already satisfied: grpcio>=1.41.0 in c:\\users\\wongd7\\documents\\python\\llm_experiments\\venv\\lib\\site-packages (from qdrant-client[fastembed]) (1.64.1)\n",
      "Requirement already satisfied: pydantic>=1.10.8 in c:\\users\\wongd7\\documents\\python\\llm_experiments\\venv\\lib\\site-packages (from qdrant-client[fastembed]) (2.7.3)\n",
      "Collecting grpcio-tools>=1.41.0\n",
      "  Downloading grpcio_tools-1.64.1-cp310-cp310-win_amd64.whl (1.1 MB)\n",
      "     ---------------------------------------- 0.0/1.1 MB ? eta -:--:--\n",
      "     ---------------------------- ----------- 0.8/1.1 MB 16.1 MB/s eta 0:00:01\n",
      "     ---------------------------------------- 1.1/1.1 MB 13.6 MB/s eta 0:00:00\n",
      "Requirement already satisfied: urllib3<3,>=1.26.14 in c:\\users\\wongd7\\documents\\python\\llm_experiments\\venv\\lib\\site-packages (from qdrant-client[fastembed]) (2.2.1)\n",
      "Requirement already satisfied: numpy>=1.21 in c:\\users\\wongd7\\documents\\python\\llm_experiments\\venv\\lib\\site-packages (from qdrant-client[fastembed]) (1.26.4)\n",
      "Requirement already satisfied: httpx[http2]>=0.20.0 in c:\\users\\wongd7\\documents\\python\\llm_experiments\\venv\\lib\\site-packages (from qdrant-client[fastembed]) (0.27.0)\n",
      "Collecting fastembed==0.2.7\n",
      "  Downloading fastembed-0.2.7-py3-none-any.whl (27 kB)\n",
      "Requirement already satisfied: onnx<2.0.0,>=1.15.0 in c:\\users\\wongd7\\documents\\python\\llm_experiments\\venv\\lib\\site-packages (from fastembed==0.2.7->qdrant-client[fastembed]) (1.16.1)\n",
      "Requirement already satisfied: onnxruntime<2.0.0,>=1.17.0 in c:\\users\\wongd7\\documents\\python\\llm_experiments\\venv\\lib\\site-packages (from fastembed==0.2.7->qdrant-client[fastembed]) (1.18.0)\n",
      "Collecting loguru<0.8.0,>=0.7.2\n",
      "  Downloading loguru-0.7.2-py3-none-any.whl (62 kB)\n",
      "     ---------------------------------------- 0.0/62.5 kB ? eta -:--:--\n",
      "     ---------------------------------------- 62.5/62.5 kB 3.3 MB/s eta 0:00:00\n",
      "Requirement already satisfied: requests<3.0,>=2.31 in c:\\users\\wongd7\\documents\\python\\llm_experiments\\venv\\lib\\site-packages (from fastembed==0.2.7->qdrant-client[fastembed]) (2.32.3)\n",
      "Requirement already satisfied: tqdm<5.0,>=4.66 in c:\\users\\wongd7\\documents\\python\\llm_experiments\\venv\\lib\\site-packages (from fastembed==0.2.7->qdrant-client[fastembed]) (4.66.4)\n",
      "Collecting tokenizers<0.16,>=0.15\n",
      "  Using cached tokenizers-0.15.2-cp310-none-win_amd64.whl (2.2 MB)\n",
      "Collecting huggingface-hub<0.21,>=0.20\n",
      "  Using cached huggingface_hub-0.20.3-py3-none-any.whl (330 kB)\n",
      "Requirement already satisfied: setuptools in c:\\users\\wongd7\\documents\\python\\llm_experiments\\venv\\lib\\site-packages (from grpcio-tools>=1.41.0->qdrant-client[fastembed]) (65.5.0)\n",
      "Collecting protobuf<6.0dev,>=5.26.1\n",
      "  Downloading protobuf-5.27.2-cp310-abi3-win_amd64.whl (426 kB)\n",
      "     ---------------------------------------- 0.0/426.9 kB ? eta -:--:--\n",
      "     ------------------------------------- 426.9/426.9 kB 13.4 MB/s eta 0:00:00\n",
      "Requirement already satisfied: httpcore==1.* in c:\\users\\wongd7\\documents\\python\\llm_experiments\\venv\\lib\\site-packages (from httpx[http2]>=0.20.0->qdrant-client[fastembed]) (1.0.5)\n",
      "Requirement already satisfied: certifi in c:\\users\\wongd7\\documents\\python\\llm_experiments\\venv\\lib\\site-packages (from httpx[http2]>=0.20.0->qdrant-client[fastembed]) (2024.6.2)\n",
      "Requirement already satisfied: sniffio in c:\\users\\wongd7\\documents\\python\\llm_experiments\\venv\\lib\\site-packages (from httpx[http2]>=0.20.0->qdrant-client[fastembed]) (1.3.1)\n",
      "Requirement already satisfied: anyio in c:\\users\\wongd7\\documents\\python\\llm_experiments\\venv\\lib\\site-packages (from httpx[http2]>=0.20.0->qdrant-client[fastembed]) (4.4.0)\n",
      "Requirement already satisfied: idna in c:\\users\\wongd7\\documents\\python\\llm_experiments\\venv\\lib\\site-packages (from httpx[http2]>=0.20.0->qdrant-client[fastembed]) (3.7)\n",
      "Collecting h2<5,>=3\n",
      "  Downloading h2-4.1.0-py3-none-any.whl (57 kB)\n",
      "     ---------------------------------------- 0.0/57.5 kB ? eta -:--:--\n",
      "     ---------------------------------------- 57.5/57.5 kB ? eta 0:00:00\n",
      "Requirement already satisfied: h11<0.15,>=0.13 in c:\\users\\wongd7\\documents\\python\\llm_experiments\\venv\\lib\\site-packages (from httpcore==1.*->httpx[http2]>=0.20.0->qdrant-client[fastembed]) (0.14.0)\n",
      "Requirement already satisfied: pywin32>=226 in c:\\users\\wongd7\\documents\\python\\llm_experiments\\venv\\lib\\site-packages (from portalocker<3.0.0,>=2.7.0->qdrant-client[fastembed]) (306)\n",
      "Requirement already satisfied: typing-extensions>=4.6.1 in c:\\users\\wongd7\\documents\\python\\llm_experiments\\venv\\lib\\site-packages (from pydantic>=1.10.8->qdrant-client[fastembed]) (4.12.1)\n",
      "Requirement already satisfied: pydantic-core==2.18.4 in c:\\users\\wongd7\\documents\\python\\llm_experiments\\venv\\lib\\site-packages (from pydantic>=1.10.8->qdrant-client[fastembed]) (2.18.4)\n",
      "Requirement already satisfied: annotated-types>=0.4.0 in c:\\users\\wongd7\\documents\\python\\llm_experiments\\venv\\lib\\site-packages (from pydantic>=1.10.8->qdrant-client[fastembed]) (0.7.0)\n",
      "Collecting hpack<5,>=4.0\n",
      "  Downloading hpack-4.0.0-py3-none-any.whl (32 kB)\n",
      "Collecting hyperframe<7,>=6.0\n",
      "  Downloading hyperframe-6.0.1-py3-none-any.whl (12 kB)\n",
      "Requirement already satisfied: packaging>=20.9 in c:\\users\\wongd7\\documents\\python\\llm_experiments\\venv\\lib\\site-packages (from huggingface-hub<0.21,>=0.20->fastembed==0.2.7->qdrant-client[fastembed]) (23.2)\n",
      "Requirement already satisfied: filelock in c:\\users\\wongd7\\documents\\python\\llm_experiments\\venv\\lib\\site-packages (from huggingface-hub<0.21,>=0.20->fastembed==0.2.7->qdrant-client[fastembed]) (3.14.0)\n",
      "Requirement already satisfied: pyyaml>=5.1 in c:\\users\\wongd7\\documents\\python\\llm_experiments\\venv\\lib\\site-packages (from huggingface-hub<0.21,>=0.20->fastembed==0.2.7->qdrant-client[fastembed]) (6.0.1)\n",
      "Requirement already satisfied: fsspec>=2023.5.0 in c:\\users\\wongd7\\documents\\python\\llm_experiments\\venv\\lib\\site-packages (from huggingface-hub<0.21,>=0.20->fastembed==0.2.7->qdrant-client[fastembed]) (2024.6.0)\n",
      "Requirement already satisfied: colorama>=0.3.4 in c:\\users\\wongd7\\documents\\python\\llm_experiments\\venv\\lib\\site-packages (from loguru<0.8.0,>=0.7.2->fastembed==0.2.7->qdrant-client[fastembed]) (0.4.6)\n",
      "Collecting win32-setctime>=1.0.0\n",
      "  Downloading win32_setctime-1.1.0-py3-none-any.whl (3.6 kB)\n",
      "Requirement already satisfied: sympy in c:\\users\\wongd7\\documents\\python\\llm_experiments\\venv\\lib\\site-packages (from onnxruntime<2.0.0,>=1.17.0->fastembed==0.2.7->qdrant-client[fastembed]) (1.12.1)\n",
      "Requirement already satisfied: flatbuffers in c:\\users\\wongd7\\documents\\python\\llm_experiments\\venv\\lib\\site-packages (from onnxruntime<2.0.0,>=1.17.0->fastembed==0.2.7->qdrant-client[fastembed]) (24.3.25)\n",
      "Requirement already satisfied: coloredlogs in c:\\users\\wongd7\\documents\\python\\llm_experiments\\venv\\lib\\site-packages (from onnxruntime<2.0.0,>=1.17.0->fastembed==0.2.7->qdrant-client[fastembed]) (15.0.1)\n",
      "Requirement already satisfied: charset-normalizer<4,>=2 in c:\\users\\wongd7\\documents\\python\\llm_experiments\\venv\\lib\\site-packages (from requests<3.0,>=2.31->fastembed==0.2.7->qdrant-client[fastembed]) (3.3.2)\n",
      "Requirement already satisfied: exceptiongroup>=1.0.2 in c:\\users\\wongd7\\documents\\python\\llm_experiments\\venv\\lib\\site-packages (from anyio->httpx[http2]>=0.20.0->qdrant-client[fastembed]) (1.2.1)\n",
      "Requirement already satisfied: humanfriendly>=9.1 in c:\\users\\wongd7\\documents\\python\\llm_experiments\\venv\\lib\\site-packages (from coloredlogs->onnxruntime<2.0.0,>=1.17.0->fastembed==0.2.7->qdrant-client[fastembed]) (10.0)\n",
      "Requirement already satisfied: mpmath<1.4.0,>=1.1.0 in c:\\users\\wongd7\\documents\\python\\llm_experiments\\venv\\lib\\site-packages (from sympy->onnxruntime<2.0.0,>=1.17.0->fastembed==0.2.7->qdrant-client[fastembed]) (1.3.0)\n",
      "Requirement already satisfied: pyreadline3 in c:\\users\\wongd7\\documents\\python\\llm_experiments\\venv\\lib\\site-packages (from humanfriendly>=9.1->coloredlogs->onnxruntime<2.0.0,>=1.17.0->fastembed==0.2.7->qdrant-client[fastembed]) (3.4.1)\n",
      "Installing collected packages: win32-setctime, protobuf, hyperframe, hpack, loguru, huggingface-hub, h2, grpcio-tools, tokenizers, qdrant-client, fastembed\n",
      "  Attempting uninstall: protobuf\n",
      "    Found existing installation: protobuf 4.25.3\n",
      "    Uninstalling protobuf-4.25.3:\n",
      "      Successfully uninstalled protobuf-4.25.3\n",
      "  Attempting uninstall: huggingface-hub\n",
      "    Found existing installation: huggingface-hub 0.23.3\n",
      "    Uninstalling huggingface-hub-0.23.3:\n",
      "      Successfully uninstalled huggingface-hub-0.23.3\n",
      "  Attempting uninstall: tokenizers\n",
      "    Found existing installation: tokenizers 0.19.1\n",
      "    Uninstalling tokenizers-0.19.1:\n",
      "      Successfully uninstalled tokenizers-0.19.1\n",
      "Successfully installed fastembed-0.2.7 grpcio-tools-1.64.1 h2-4.1.0 hpack-4.0.0 huggingface-hub-0.20.3 hyperframe-6.0.1 loguru-0.7.2 protobuf-5.27.2 qdrant-client-1.10.0 tokenizers-0.15.2 win32-setctime-1.1.0\n",
      "Note: you may need to restart the kernel to use updated packages.\n"
     ]
    },
    {
     "name": "stderr",
     "output_type": "stream",
     "text": [
      "ERROR: pip's dependency resolver does not currently take into account all the packages that are installed. This behaviour is the source of the following dependency conflicts.\n",
      "transformers 4.42.3 requires huggingface-hub<1.0,>=0.23.2, but you have huggingface-hub 0.20.3 which is incompatible.\n",
      "transformers 4.42.3 requires tokenizers<0.20,>=0.19, but you have tokenizers 0.15.2 which is incompatible.\n",
      "proto-plus 1.23.0 requires protobuf<5.0.0dev,>=3.19.0, but you have protobuf 5.27.2 which is incompatible.\n",
      "opentelemetry-proto 1.25.0 requires protobuf<5.0,>=3.19, but you have protobuf 5.27.2 which is incompatible.\n",
      "grpc-google-iam-v1 0.13.0 requires protobuf!=3.20.0,!=3.20.1,!=4.21.1,!=4.21.2,!=4.21.3,!=4.21.4,!=4.21.5,<5.0.0dev,>=3.19.5, but you have protobuf 5.27.2 which is incompatible.\n",
      "google-cloud-vision 3.7.2 requires protobuf!=3.20.0,!=3.20.1,!=4.21.0,!=4.21.1,!=4.21.2,!=4.21.3,!=4.21.4,!=4.21.5,<5.0.0dev,>=3.19.5, but you have protobuf 5.27.2 which is incompatible.\n",
      "google-cloud-resource-manager 1.12.3 requires protobuf!=3.20.0,!=3.20.1,!=4.21.0,!=4.21.1,!=4.21.2,!=4.21.3,!=4.21.4,!=4.21.5,<5.0.0dev,>=3.19.5, but you have protobuf 5.27.2 which is incompatible.\n",
      "google-cloud-aiplatform 1.54.0 requires protobuf!=3.20.0,!=3.20.1,!=4.21.0,!=4.21.1,!=4.21.2,!=4.21.3,!=4.21.4,!=4.21.5,<5.0.0dev,>=3.19.5, but you have protobuf 5.27.2 which is incompatible.\n",
      "google-api-core 2.19.0 requires protobuf!=3.20.0,!=3.20.1,!=4.21.0,!=4.21.1,!=4.21.2,!=4.21.3,!=4.21.4,!=4.21.5,<5.0.0.dev0,>=3.19.5, but you have protobuf 5.27.2 which is incompatible.\n",
      "embedchain 0.1.102 requires pypdf<4.0.0,>=3.11.0, but you have pypdf 4.2.0 which is incompatible.\n",
      "\n",
      "[notice] A new release of pip is available: 23.0.1 -> 24.1.1\n",
      "[notice] To update, run: python.exe -m pip install --upgrade pip\n"
     ]
    }
   ],
   "source": [
    "pip install qdrant-client[fastembed]"
   ]
  },
  {
   "cell_type": "code",
   "execution_count": 60,
   "metadata": {},
   "outputs": [
    {
     "name": "stdout",
     "output_type": "stream",
     "text": [
      "[QueryResponse(id=42, embedding=None, sparse_embedding=None, metadata={'document': 'Qdrant has Langchain integrations', 'source': 'Langchain-docs'}, document='Qdrant has Langchain integrations', score=0.8133327), QueryResponse(id=2, embedding=None, sparse_embedding=None, metadata={'document': 'Qdrant also has Llama Index integrations', 'source': 'Llama-index-docs'}, document='Qdrant also has Llama Index integrations', score=0.81049025)]\n"
     ]
    }
   ],
   "source": [
    "from qdrant_client import QdrantClient\n",
    "from dotenv import dotenv_values\n",
    "\n",
    "config = dotenv_values(\".env\")\n",
    "\n",
    "\n",
    "# Initialize the client\n",
    "# client = QdrantClient(\":memory:\") # For small experiments\n",
    "qdrant_client = QdrantClient(\n",
    "    url=config[\"QDRANT_ENDPOINT\"], \n",
    "    api_key=config[\"QDRANT_API_KEY\"],\n",
    ")\n",
    "\n",
    "# Prepare your documents, metadata, and IDs\n",
    "docs = [\"Qdrant has Langchain integrations\", \"Qdrant also has Llama Index integrations\"]\n",
    "metadata = [\n",
    "    {\"source\": \"Langchain-docs\"},\n",
    "    {\"source\": \"Llama-index-docs\"},\n",
    "]\n",
    "ids = [42, 2]\n",
    "\n",
    "# If you want to change the model:\n",
    "# client.set_model(\"sentence-transformers/all-MiniLM-L6-v2\")\n",
    "# List of supported models: https://qdrant.github.io/fastembed/examples/Supported_Models\n",
    "\n",
    "# Use the new add() instead of upsert()\n",
    "# This internally calls embed() of the configured embedding model\n",
    "qdrant_client.add(\n",
    "    collection_name=\"collection1_add\",\n",
    "    documents=docs,\n",
    "    metadata=metadata,\n",
    "    ids=ids\n",
    ")\n",
    "\n",
    "search_result = qdrant_client.query(\n",
    "    collection_name=\"demo_collection\",\n",
    "    query_text=\"This is a query document\"\n",
    ")\n",
    "print(search_result)"
   ]
  },
  {
   "cell_type": "code",
   "execution_count": 61,
   "metadata": {},
   "outputs": [
    {
     "data": {
      "text/plain": [
       "True"
      ]
     },
     "execution_count": 61,
     "metadata": {},
     "output_type": "execute_result"
    }
   ],
   "source": [
    "from qdrant_client import QdrantClient, models\n",
    "\n",
    "qdrant_client.create_collection(\n",
    "    collection_name=\"collection2_create\",\n",
    "    vectors_config=models.VectorParams(\n",
    "        size=1024,\n",
    "        distance=models.Distance.DOT,\n",
    "    ),\n",
    ")"
   ]
  },
  {
   "cell_type": "code",
   "execution_count": 62,
   "metadata": {},
   "outputs": [
    {
     "data": {
      "text/plain": [
       "[CollectionDescription(name='demo_collection'),\n",
       " CollectionDescription(name='test_collection'),\n",
       " CollectionDescription(name='collection2_create'),\n",
       " CollectionDescription(name='collection1_add')]"
      ]
     },
     "execution_count": 62,
     "metadata": {},
     "output_type": "execute_result"
    }
   ],
   "source": [
    "qdrant_client.get_collections().collections"
   ]
  },
  {
   "cell_type": "code",
   "execution_count": 73,
   "metadata": {},
   "outputs": [
    {
     "data": {
      "text/plain": [
       "[('status', <CollectionStatus.GREEN: 'green'>),\n",
       " ('optimizer_status', <OptimizersStatusOneOf.OK: 'ok'>),\n",
       " ('vectors_count', None),\n",
       " ('indexed_vectors_count', 0),\n",
       " ('points_count', 2),\n",
       " ('segments_count', 2),\n",
       " ('config',\n",
       "  CollectionConfig(params=CollectionParams(vectors={'fast-bge-small-en': VectorParams(size=384, distance=<Distance.COSINE: 'Cosine'>, hnsw_config=None, quantization_config=None, on_disk=None, datatype=None, multivector_config=None)}, shard_number=1, sharding_method=None, replication_factor=1, write_consistency_factor=1, read_fan_out_factor=None, on_disk_payload=True, sparse_vectors=None), hnsw_config=HnswConfig(m=16, ef_construct=100, full_scan_threshold=10000, max_indexing_threads=0, on_disk=False, payload_m=None), optimizer_config=OptimizersConfig(deleted_threshold=0.2, vacuum_min_vector_number=1000, default_segment_number=0, max_segment_size=None, memmap_threshold=None, indexing_threshold=20000, flush_interval_sec=5, max_optimization_threads=None), wal_config=WalConfig(wal_capacity_mb=32, wal_segments_ahead=0), quantization_config=None)),\n",
       " ('payload_schema', {})]"
      ]
     },
     "execution_count": 73,
     "metadata": {},
     "output_type": "execute_result"
    }
   ],
   "source": [
    "collection_info = qdrant_client.get_collection(collection_name=\"collection1_add\")\n",
    "list(collection_info)"
   ]
  },
  {
   "cell_type": "code",
   "execution_count": 74,
   "metadata": {},
   "outputs": [
    {
     "data": {
      "text/plain": [
       "[('status', <CollectionStatus.GREEN: 'green'>),\n",
       " ('optimizer_status', <OptimizersStatusOneOf.OK: 'ok'>),\n",
       " ('vectors_count', None),\n",
       " ('indexed_vectors_count', 0),\n",
       " ('points_count', 10),\n",
       " ('segments_count', 2),\n",
       " ('config',\n",
       "  CollectionConfig(params=CollectionParams(vectors=VectorParams(size=1024, distance=<Distance.DOT: 'Dot'>, hnsw_config=None, quantization_config=None, on_disk=None, datatype=None, multivector_config=None), shard_number=1, sharding_method=None, replication_factor=1, write_consistency_factor=1, read_fan_out_factor=None, on_disk_payload=True, sparse_vectors=None), hnsw_config=HnswConfig(m=16, ef_construct=100, full_scan_threshold=10000, max_indexing_threads=0, on_disk=False, payload_m=None), optimizer_config=OptimizersConfig(deleted_threshold=0.2, vacuum_min_vector_number=1000, default_segment_number=0, max_segment_size=None, memmap_threshold=None, indexing_threshold=20000, flush_interval_sec=5, max_optimization_threads=None), wal_config=WalConfig(wal_capacity_mb=32, wal_segments_ahead=0), quantization_config=None)),\n",
       " ('payload_schema', {})]"
      ]
     },
     "execution_count": 74,
     "metadata": {},
     "output_type": "execute_result"
    }
   ],
   "source": [
    "collection_info = qdrant_client.get_collection(collection_name=\"collection2_create\")\n",
    "list(collection_info)"
   ]
  },
  {
   "cell_type": "code",
   "execution_count": 67,
   "metadata": {},
   "outputs": [
    {
     "data": {
      "text/plain": [
       "False"
      ]
     },
     "execution_count": 67,
     "metadata": {},
     "output_type": "execute_result"
    }
   ],
   "source": [
    "qdrant_client.delete_collection(collection_name='test_collection')"
   ]
  },
  {
   "cell_type": "code",
   "execution_count": 6,
   "metadata": {},
   "outputs": [],
   "source": [
    "notes = [\n",
    "    {\n",
    "        \"title\": \"Project Alpha Review\",\n",
    "        \"text\": \"Review the current progress of Project Alpha, focusing on the integration of the new API. Check for any compatibility issues with the existing system and document the steps needed to resolve them. Schedule a meeting with the development team to discuss the timeline and any potential roadblocks.\"\n",
    "    },\n",
    "    {\n",
    "        \"title\": \"Learning Path Update\",\n",
    "        \"text\": \"Update the learning path document with the latest courses on React and Node.js from Pluralsight. Schedule at least 2 hours weekly to dedicate to these courses. Aim to complete the React course by the end of the month and the Node.js course by mid-next month.\"\n",
    "    },\n",
    "    {\n",
    "        \"title\": \"Weekly Team Meeting Agenda\",\n",
    "        \"text\": \"Prepare the agenda for the weekly team meeting. Include the following topics: project updates, review of the sprint backlog, discussion on the new feature requests, and a brainstorming session for improving remote work practices. Send out the agenda and the Zoom link by Thursday afternoon.\"\n",
    "    },\n",
    "    {\n",
    "        \"title\": \"Code Review Process Improvement\",\n",
    "        \"text\": \"Analyze the current code review process to identify inefficiencies. Consider adopting a new tool that integrates with our version control system. Explore options such as GitHub Actions for automating parts of the process. Draft a proposal with recommendations and share it with the team for feedback.\"\n",
    "    },\n",
    "    {\n",
    "        \"title\": \"Cloud Migration Strategy\",\n",
    "        \"text\": \"Draft a plan for migrating our current on-premise infrastructure to the cloud. The plan should cover the selection of a cloud provider, cost analysis, and a phased migration approach. Identify critical applications for the first phase and any potential risks or challenges. Schedule a meeting with the IT department to discuss the plan.\"\n",
    "    },\n",
    "    {\n",
    "        \"title\": \"Quarterly Goals Review\",\n",
    "        \"text\": \"Review the progress towards the quarterly goals. Update the documentation to reflect any completed objectives and outline steps for any remaining goals. Schedule individual meetings with team members to discuss their contributions and any support they might need to achieve their targets.\"\n",
    "    },\n",
    "    {\n",
    "        \"title\": \"Personal Development Plan\",\n",
    "        \"text\": \"Reflect on the past quarter's achievements and areas for improvement. Update the personal development plan to include new technical skills to learn, certifications to pursue, and networking events to attend. Set realistic timelines and check-in points to monitor progress.\"\n",
    "    },\n",
    "    {\n",
    "        \"title\": \"End-of-Year Performance Reviews\",\n",
    "        \"text\": \"Start preparing for the end-of-year performance reviews. Collect feedback from peers and managers, review project contributions, and document achievements. Consider areas for improvement and set goals for the next year. Schedule preliminary discussions with each team member to gather their self-assessments.\"\n",
    "    },\n",
    "    {\n",
    "        \"title\": \"Technology Stack Evaluation\",\n",
    "        \"text\": \"Conduct an evaluation of our current technology stack to identify any outdated technologies or tools that could be replaced for better performance and productivity. Research emerging technologies that might benefit our projects. Prepare a report with findings and recommendations to present to the management team.\"\n",
    "    },\n",
    "    {\n",
    "        \"title\": \"Team Building Event Planning\",\n",
    "        \"text\": \"Plan a team-building event for the next quarter. Consider activities that can be done remotely, such as virtual escape rooms or online game nights. Survey the team for their preferences and availability. Draft a budget proposal for the event and submit it for approval.\"\n",
    "    }\n",
    "]"
   ]
  },
  {
   "cell_type": "code",
   "execution_count": 69,
   "metadata": {},
   "outputs": [
    {
     "data": {
      "text/plain": [
       "UpdateResult(operation_id=0, status=<UpdateStatus.COMPLETED: 'completed'>)"
      ]
     },
     "execution_count": 69,
     "metadata": {},
     "output_type": "execute_result"
    }
   ],
   "source": [
    "import cohere\n",
    "import uuid\n",
    "from dotenv import dotenv_values\n",
    "\n",
    "cohere_api_key = dotenv_values(\".env\")[\"COHERE_API_KEY\"]\n",
    "cohere_client = cohere.Client(api_key=cohere_api_key)\n",
    "\n",
    "response = cohere_client.embed(\n",
    "    texts=[\n",
    "        note.get(\"text\")\n",
    "        for note in notes\n",
    "    ],\n",
    "    model=\"embed-multilingual-v3.0\",\n",
    "    input_type=\"search_document\",\n",
    ")\n",
    "\n",
    "qdrant_client.upsert(\n",
    "    collection_name=\"collection2_create\",\n",
    "    points=[\n",
    "        models.PointStruct(\n",
    "            id=uuid.uuid4().hex,\n",
    "            vector=embedding,\n",
    "            payload=note,\n",
    "        )\n",
    "        for note, embedding in zip(notes, response.embeddings)\n",
    "    ]\n",
    ")"
   ]
  },
  {
   "cell_type": "code",
   "execution_count": 75,
   "metadata": {},
   "outputs": [
    {
     "name": "stdout",
     "output_type": "stream",
     "text": [
      "6f0366935c52430bbf80be49c47a9e72\n",
      "8591718bdaf6462fbb6b7f58b0401d88\n",
      "17b57d21405343be8f9f2168bc13bc35\n",
      "39c9dc4930b14bde92741e455823bfb3\n",
      "c804cf7e1fde4a4199efe8217f66d7a7\n",
      "cb2d592527f44ce9b0800ce8e9225b27\n",
      "1749dc58a16246fe8d4f023319ebe905\n",
      "a42435330b0640d38c150a9c78b15946\n",
      "9298782345624cf8a165ed8fabc5cbe2\n",
      "bbfe2b58898941248614b2e67bb9def2\n"
     ]
    }
   ],
   "source": [
    "for note, embedding in zip(notes, response.embeddings):\n",
    "    point_id = uuid.uuid4().hex  # Generate and store the UUID\n",
    "    print(point_id)  # Print the generated UUID\n",
    "    qdrant_client.upsert(\n",
    "        collection_name=\"collection2_create\",\n",
    "        points=[\n",
    "            models.PointStruct(\n",
    "                id=point_id,\n",
    "                vector=embedding,\n",
    "                payload=note,\n",
    "            )\n",
    "        ]\n",
    "    )"
   ]
  },
  {
   "cell_type": "code",
   "execution_count": 80,
   "metadata": {},
   "outputs": [
    {
     "data": {
      "text/plain": [
       "[Record(id='6f036693-5c52-430b-bf80-be49c47a9e72', payload={'text': 'Review the current progress of Project Alpha, focusing on the integration of the new API. Check for any compatibility issues with the existing system and document the steps needed to resolve them. Schedule a meeting with the development team to discuss the timeline and any potential roadblocks.', 'title': 'Project Alpha Review'}, vector=[0.018081665, 0.03137207, -0.035491943, 0.03555298, -0.017929077, -0.034088135, -0.0032920837, -0.026763916, -0.0054626465, -0.011558533, -0.008255005, 0.021072388, 0.00447464, 0.0051231384, 0.010604858, 0.015380859, 0.022994995, -0.0362854, -0.0062217712, -0.023468018, -0.0289917, 0.04019165, 0.07330322, -0.049835205, 0.02168274, 0.0010652542, 0.033721924, 0.0030727386, 0.0552063, 0.0013885498, 0.001335144, -0.03074646, 0.03111267, 0.017791748, 0.038909912, 0.07110596, -0.016937256, -0.015975952, 0.0064086914, 0.06311035, -0.04550171, 0.00040650368, -0.021255493, 0.06439209, -0.00844574, -0.017684937, 0.03427124, 0.047668457, 0.030960083, 0.021942139, 0.010536194, 0.01436615, 0.008743286, -0.022018433, 0.022338867, 0.011062622, -0.00041151047, 0.024383545, 0.06878662, 0.027496338, 0.011398315, 0.013450623, 0.024520874, -0.017562866, 0.026870728, -0.008361816, 0.0033950806, -0.00068616867, 0.012893677, 0.01663208, -0.016952515, -0.0087890625, 0.05178833, -0.00084733963, 0.0071372986, -0.03137207, 0.013710022, 0.00349617, 0.047912598, 0.063964844, -0.005580902, 0.025131226, 0.023986816, 0.058685303, -0.017837524, -0.020248413, -0.057800293, 0.031555176, -0.0006670952, 0.014801025, 0.0061187744, 0.026107788, 0.02482605, 0.007080078, -0.014442444, -0.012809753, 0.02331543, -0.031799316, 0.010948181, -0.019195557, -0.00041556358, -0.031921387, -0.025238037, 0.0037822723, -0.03640747, 0.0016965866, -0.017730713, -0.012138367, 0.018157959, 0.011734009, 0.01777649, 0.042907715, 0.020080566, -0.028671265, -0.03564453, -0.06048584, -0.010818481, 0.000582695, -0.037078857, 0.008506775, 0.025161743, 0.00047159195, -0.010749817, 0.046966553, 0.012191772, -0.08917236, 0.023666382, -0.05267334, -0.03933716, 0.022750854, 0.006427765, 0.008110046, 1.4960766e-05, -0.010665894, -0.0008497238, -0.0024967194, -0.076293945, -0.041992188, -0.0026073456, -0.028625488, 0.009262085, -0.0009570122, -0.0004041195, 0.00031375885, -0.028518677, -0.028930664, 0.06878662, 0.009483337, -0.011383057, 0.013923645, -0.022827148, -0.01876831, 0.01399231, -0.062561035, 0.015777588, 0.016815186, 0.01625061, -0.009002686, 0.0071525574, -0.02720642, -0.041534424, -0.07928467, 0.021224976, -0.07293701, -0.04058838, -0.06945801, -0.002866745, 0.008178711, 0.0053138733, 0.06524658, -0.014663696, -0.015655518, -0.02078247, -0.0027656555, 0.00028896332, -0.01020813, 0.010726929, 0.0049362183, -0.024383545, 0.041107178, -0.001449585, -0.06262207, -0.01033783, -0.06378174, 0.005630493, -0.030776978, -0.03277588, 0.010665894, 0.035186768, -0.016464233, 0.04437256, -0.0362854, -0.07128906, -0.01914978, -0.04776001, 0.03326416, -0.022521973, -0.017715454, 0.007896423, 0.030715942, 0.008262634, -0.0033721924, 0.041900635, -0.036590576, -0.05960083, -0.02268982, 0.008560181, 0.025680542, -0.009376526, 0.01473999, 0.011154175, 0.014541626, 0.007247925, -0.022537231, -0.01876831, 0.015151978, 0.03314209, 0.021438599, -0.019332886, -0.008460999, -0.026168823, -0.015220642, -0.0044288635, -0.0053520203, 0.0049095154, 0.016921997, -0.008842468, -0.03817749, 0.04559326, 0.007949829, 0.004043579, -0.012390137, 0.0026245117, 0.035369873, 0.015396118, 0.02357483, -0.048461914, -0.023498535, -0.07098389, -0.002286911, 0.011940002, 0.033294678, -0.023712158, -0.01222229, 0.0680542, -0.010482788, 0.012176514, -0.0012807846, -0.003993988, -0.022140503, -0.004337311, 0.0034923553, -0.01235199, -0.03741455, 0.0024909973, -0.061187744, -0.074279785, 0.06530762, 0.052215576, 0.020980835, 0.0019330978, -0.00088071823, 0.032318115, -0.019546509, -0.0138168335, -0.01374054, 0.028259277, 0.0018110275, -0.005569458, 0.033599854, -0.008369446, -0.00868988, -0.0051460266, 0.021408081, 0.00667572, -0.00076007843, 0.012130737, -0.01928711, 0.0009088516, 0.025024414, -0.0066375732, 0.04043579, 0.006248474, -0.02281189, -0.018859863, 0.039398193, -0.010902405, 0.034576416, -0.06210327, 0.009307861, -0.03253174, -0.055511475, -0.04650879, -0.019897461, -0.041900635, 0.007106781, -0.027999878, 0.011116028, 0.031341553, -0.06921387, -0.02999878, 0.015075684, -0.027786255, -0.06719971, 0.0072021484, 0.03265381, 0.05883789, -0.0002975464, 0.09765625, 0.024749756, -0.00459671, 0.0024375916, -0.0037631989, -0.008262634, -0.011161804, 0.008712769, -0.015296936, -0.018569946, -0.012138367, 0.0069351196, -0.026031494, -0.061676025, -0.08892822, -0.0602417, -0.0005850792, 0.09539795, 0.021240234, 0.008705139, 0.0046958923, -0.012664795, 0.009025574, -0.011169434, 0.015129089, -0.01890564, 0.0048713684, -0.017349243, 0.017349243, -0.018737793, 0.0043258667, 0.031829834, -0.026870728, -0.03692627, -0.02357483, 0.03137207, 0.042541504, 0.0034065247, -0.01058197, -0.016036987, 0.0022354126, -0.037841797, -0.01701355, -0.027023315, -0.06604004, -0.046936035, -0.004878998, -0.0035476685, -0.028396606, 0.02746582, -0.014335632, 0.008773804, -0.031829834, 0.026992798, -0.014274597, 0.04421997, -0.02848816, 0.029388428, -0.055145264, -0.012466431, -0.037506104, 0.039642334, 0.020004272, 0.06427002, 0.087768555, 0.023498535, -0.044769287, 0.028015137, 0.022735596, 0.015296936, 0.01348114, 0.03164673, -0.015426636, -0.021148682, 0.007259369, -0.0032596588, -0.013755798, 0.09222412, 0.009315491, -0.027145386, -0.051330566, -0.04058838, 0.006046295, 0.03289795, -0.00087451935, -0.032592773, 0.00094270706, -0.005443573, -0.044830322, 0.0059318542, -0.051818848, -0.029647827, 0.059417725, -0.0317688, 0.031341553, -0.026397705, 0.016967773, 0.03010559, 0.027694702, -0.008300781, 0.020980835, 0.02508545, -0.019378662, 0.013412476, 0.0029506683, -0.038848877, -0.006462097, 0.010345459, -0.030166626, -0.009162903, 0.0070991516, -0.013626099, 0.03970337, 0.0039138794, 0.018707275, 0.02116394, 0.019088745, -0.024597168, 0.03540039, 0.045532227, -0.012077332, -0.02671814, -0.024597168, -0.009262085, 0.01285553, 0.0034809113, 0.007850647, 0.018035889, -0.04321289, 0.0012969971, -0.03729248, -0.005836487, -0.04800415, -0.04901123, 0.049682617, -0.004737854, 0.07330322, 0.053009033, -0.023162842, 0.051818848, -0.0491333, 0.001282692, -0.038635254, 0.013313293, -0.044952393, -0.0014810562, -0.011299133, 0.035980225, -0.015686035, 0.041229248, 0.0046691895, -0.021240234, -0.046081543, -0.011985779, 0.018829346, -0.039123535, 0.009712219, -0.059631348, 0.015289307, 0.023147583, 0.050354004, -0.051361084, -0.026229858, 0.057250977, 0.00088357925, -0.011741638, -0.0075912476, 0.0016584396, -0.0098724365, 0.025543213, -0.0680542, -0.0063476562, -0.05126953, -0.011779785, 0.013893127, 0.014434814, -0.011917114, 0.0078048706, 0.038269043, -0.018539429, -0.03353882, -0.028213501, -0.026519775, 0.022201538, -0.08355713, -0.025939941, -0.004711151, -0.036132812, 0.005466461, -0.025527954, -0.042816162, -0.009529114, 0.040496826, 0.025939941, -0.027420044, 0.076538086, -0.0031871796, -0.021606445, 0.00032949448, 0.014778137, -0.02166748, 0.01651001, -0.036346436, -0.0026054382, -0.015411377, 0.021820068, 0.039764404, -0.0546875, 0.005809784, 0.005355835, -0.013618469, -0.016830444, 0.006412506, 0.0524292, -0.01486969, 0.021438599, 0.071777344, -0.0014867783, -0.07489014, -0.019638062, -0.04321289, -0.009757996, 0.0009698868, -0.0057678223, 0.013916016, -0.002998352, -0.016601562, -0.00051116943, 0.0005402565, -0.012779236, 0.04135132, -0.036224365, -0.015525818, -0.029541016, -0.02168274, 0.029220581, 0.013694763, -0.026916504, -0.043151855, -0.045806885, -0.0149383545, 0.0074653625, -0.0050086975, 0.017105103, -0.04940796, -0.05407715, 0.026885986, 0.053833008, -0.041259766, -0.030380249, -0.006614685, -0.015312195, -0.01222229, -0.013076782, 0.028518677, -0.0030212402, -0.00982666, 0.010810852, 0.029586792, -0.010108948, 0.033996582, -0.019851685, 0.04156494, 0.015472412, 0.015213013, -0.020050049, 0.005935669, -0.076049805, 0.043029785, -0.05630493, -0.034210205, -0.013031006, -0.09020996, 0.01689148, 0.008148193, 0.025360107, -0.08862305, -0.12017822, 0.02897644, 0.014167786, 0.028717041, -0.0027103424, 0.017425537, -0.0010404587, 0.010368347, 0.05606079, 0.008056641, 0.012718201, 0.03164673, 0.012550354, 0.0021743774, 0.016555786, 0.029724121, 0.072753906, 0.021606445, 0.040405273, -0.04333496, 0.06347656, 0.033996582, 0.066345215, 0.018310547, -0.02859497, 0.032104492, -0.020599365, -0.013671875, 0.035980225, 0.025772095, -0.027023315, 0.01651001, 0.061279297, -0.01537323, -0.017791748, -0.019302368, 0.0002758503, -0.012161255, -0.018478394, -0.019714355, 0.016357422, 0.05303955, 0.0043182373, -0.04598999, -5.51939e-05, -0.020217896, -0.044036865, 0.010368347, -0.007820129, -0.008178711, -0.011161804, -0.044677734, -0.020507812, -0.0041007996, -0.047851562, -0.0069236755, -0.056793213, 0.04949951, -0.009033203, -0.05758667, -0.0024700165, 0.05105591, -0.032836914, 0.043121338, -0.05227661, -0.0129470825, -0.012161255, 0.00044870377, 0.017547607, 0.002817154, -0.0020637512, 0.024887085, -0.014770508, -0.016052246, 0.008079529, -0.049560547, -0.012039185, 0.011711121, -0.0049476624, 0.020462036, 0.05847168, -0.0046577454, -0.045532227, -0.0345459, -0.021942139, -0.025039673, 0.030776978, 0.0017318726, 0.015197754, 0.058044434, -0.0012340546, -0.057281494, -0.0037212372, -0.023620605, -0.026260376, -0.0029258728, 0.03475952, -0.0050582886, -0.06488037, 0.018234253, -0.04425049, -0.013954163, 0.006511688, 0.020843506, 0.0020160675, 0.023880005, -0.0026874542, -0.023727417, 0.0064735413, 0.0077171326, -0.015838623, 0.008132935, -0.013046265, -0.0018949509, 0.004020691, 0.03970337, -0.024932861, 0.003604889, -0.017486572, 5.9485435e-05, -0.028961182, 0.046875, -0.041046143, 0.021026611, 0.0035305023, -0.012817383, 0.045196533, -0.0541687, -0.003271103, 0.0021858215, -0.037384033, -0.026473999, 0.027999878, -0.040985107, -0.03945923, 0.004650116, 0.026824951, 0.008415222, 0.017684937, -0.046020508, 0.0073509216, -0.045196533, -0.0015201569, -0.04248047, 0.011726379, -0.032440186, 0.006790161, -0.015060425, 0.03781128, 0.006263733, -0.005596161, -0.0061912537, -0.025665283, 0.10089111, 0.018676758, 0.035888672, 0.023254395, -0.027832031, -0.061523438, -0.008605957, -0.008308411, -0.016937256, 0.0027008057, -0.07537842, 0.016723633, 0.0026130676, 0.03488159, 0.029769897, 0.01739502, -0.017181396, -0.01335144, -0.0037975311, -0.012001038, -0.023422241, -0.047546387, -0.009490967, -0.046875, 0.0118255615, 0.010063171, 6.0498714e-05, 0.035125732, -0.030563354, -0.01776123, 0.0053977966, -0.011558533, 0.01828003, -0.04019165, 0.01727295, -0.014213562, 0.010307312, -0.011245728, -0.031341553, -0.0042800903, 0.010307312, -0.010528564, 0.015182495, 0.01524353, 0.016326904, 0.007358551, -0.057891846, -0.01689148, 0.008964539, -0.04147339, 0.0058784485, 0.07891846, 0.017150879, -0.002166748, 0.008682251, -0.034698486, -0.01789856, -0.018371582, 0.050598145, 0.008605957, -0.037353516, -0.02696228, 0.021072388, -0.014930725, -0.0037059784, -0.014076233, -0.004047394, -0.029022217, -0.050964355, -0.01374054, 0.002161026, -0.006011963, 0.009231567, 0.013801575, -0.0010166168, 0.030456543, 0.012062073, -0.04043579, 0.05130005, 0.038879395, 0.004371643, 0.035491943, -0.022201538, 0.0065231323, -0.015777588, -0.03274536, -0.009757996, -0.022323608, 0.011077881, 0.00081682205, -0.049713135, -0.014526367, 0.010307312, -0.0064735413, 0.023468018, -0.043304443, 0.040527344, -0.00774765, -0.0068359375, 0.05645752, 0.020462036, -0.011016846, 0.04510498, -0.0043754578, 0.006843567, 0.026428223, 0.04284668, 0.064086914, 0.0005712509, 0.06896973, 0.014183044, -0.017471313, 0.035003662, 0.043426514, 0.007896423, -0.010826111, -0.00019860268, 0.023345947, 0.014709473, -0.00920105, -0.017486572, -0.0075912476, -0.0284729, 0.032592773, -0.03665161, 0.024963379, -0.036895752, -0.010169983, -0.012924194, 0.014633179, 0.008758545, -0.0340271, -0.0032577515, 0.02859497, -0.07373047, 0.022415161, -0.02204895, -0.0102005005, 0.031555176, 0.0045700073, 0.0038604736, -0.032104492, 0.08288574, -0.032440186, -0.020507812, -0.004825592, -0.033203125, 0.0059432983, -0.008216858, 0.03604126, -0.06451416, 0.049346924, 0.019180298, 0.00630188, 0.037475586, 0.08081055, 0.046173096, -0.026809692, 0.07373047, -0.021057129, -0.033843994, -0.02180481, -0.04397583, 0.031982422, 0.045654297, -0.018966675, 0.00242424, 0.061676025, -0.02243042, 0.01309967, 0.009773254, 0.019180298, 0.014595032, -0.03640747, -0.039733887, 0.0079422, 0.039520264, 0.010948181, 0.008674622, -0.008544922, 0.017837524, 0.035491943, -0.010482788, 0.11633301, -0.060028076, -0.007835388, -0.019424438, -0.05291748, 0.029251099, 0.05215454, -0.014884949, 0.04647827, -0.05834961, -0.029022217, 0.011123657, -0.036590576, 0.028549194, 0.031051636, 0.0074501038, -0.01902771, 0.02420044, -0.014640808, 0.016540527, 0.0039520264, -0.0440979, -0.030075073, 0.033111572, 0.013198853, 0.0022678375, -0.0236969, 0.0121154785, 0.017684937, 0.013061523, 0.0028514862, -0.02998352, 0.05810547, 0.020553589, 0.03274536, -0.034362793, -0.00041890144, -0.011940002, 0.005554199, -0.019104004, 0.0017900467, 0.020721436, 0.021377563, -0.0071487427, 0.06604004, 0.012496948, -0.051605225, -0.0016832352, 0.048217773, 0.053100586, -0.042236328, -0.039642334, -0.018218994, -0.0048294067, -0.025405884, 0.005279541, 0.015205383, -0.010971069, -0.01586914, -0.030838013, 0.007663727, -0.0059547424, 0.022918701, -0.016174316, 0.058258057, 0.03463745, -0.01625061, 0.028198242, -0.035217285, 0.053649902, 0.024627686, -0.030761719, -0.015975952, 0.02709961, 0.011795044, -0.028411865, -0.014801025, 0.043701172, 0.028244019, 0.012413025, 0.016235352, -0.0140686035, 0.0501709, -0.0052223206, 0.034820557, -0.013961792, -0.005470276, 0.03466797, 0.00831604, 0.00035619736, 0.010757446, -0.023223877, 0.032104492, 0.019638062, -0.0446167, 0.019699097, 0.008674622, -0.0058517456, 0.04257202, 0.035247803, 0.017974854, -0.052337646, -0.007858276], shard_key=None, order_value=None)]"
      ]
     },
     "execution_count": 80,
     "metadata": {},
     "output_type": "execute_result"
    }
   ],
   "source": [
    "qdrant_client.retrieve(\n",
    "    collection_name=\"collection2_create\",\n",
    "    ids=[\"6f0366935c52430bbf80be49c47a9e72\"],\n",
    "    with_vectors=True # the default is False\n",
    ")"
   ]
  }
 ],
 "metadata": {
  "kernelspec": {
   "display_name": "venv",
   "language": "python",
   "name": "python3"
  },
  "language_info": {
   "codemirror_mode": {
    "name": "ipython",
    "version": 3
   },
   "file_extension": ".py",
   "mimetype": "text/x-python",
   "name": "python",
   "nbconvert_exporter": "python",
   "pygments_lexer": "ipython3",
   "version": "3.10.11"
  }
 },
 "nbformat": 4,
 "nbformat_minor": 2
}
